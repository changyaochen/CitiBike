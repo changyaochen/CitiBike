{
 "cells": [
  {
   "cell_type": "markdown",
   "metadata": {},
   "source": [
    "# CitiBike trip data from 2013 to 2016\n",
    "\n",
    "[Citi Bike](https://en.wikipedia.org/wiki/Citi_Bike) is the largest bike sharing program in the United States. It opened in New York City in May 2013, with 6,000 bicycles and 330 docking stations in Manhattan and Brooklyn. Recently they have [released](https://www.citibikenyc.com/system-data) all the trip data, which include the anoynomized trip data from 2013/7 until 2016/12. There are more than 35 million in total, it should be fasinating to explore!\n",
    "\n",
    "On the personal side, I signed up for its annual membership at its launch, and I really enjoyed the benefits. I must have contributed quite some trips in the data.\n",
    "\n",
    "* [Data Processing](#data_processing)\n",
    "* [Data Overview](#data_overview)\n",
    "* [Action Items](#action_item)\n",
    "\n",
    "<a name='data_processing'></a>\n",
    "### Data Processing\n",
    "Due to the large size of the data (~ 10 GB in total), it is very difficult to handle all the data directly with `python (pandas)`, therefore, I will only focus on part of the data, for exmaple, only in 2104. I've also uploaded the data to AWS, and ran some simple SQL query to the *whole* dataset with AWS's [Athena](https://www.citibikenyc.com/system-data). The latter part is still an onging process. \n",
    "\n",
    "The raw data is already quite nicely parsed, with data columns of: \n",
    "  * Trip Duration (seconds)\n",
    "  * Start Time and Date\n",
    "  * Stop Time and Date\n",
    "  * Start Station Name\n",
    "  * End Station Name\n",
    "  * Station ID\n",
    "  * Station Lat/Long\n",
    "  * Bike ID\n",
    "  * User Type (Customer = 24-hour pass or 7-day pass user; Subscriber = Annual Member)\n",
    "  * Gender (Zero=unknown; 1=male; 2=female)\n",
    "  * Year of Birth\n",
    "From these, I will populate some derived columns as needed. \n",
    "\n",
    "<a name='data_overview'></a>\n",
    "### Data Overview\n",
    "\n",
    "Let's first take a overall look at the data. \n"
   ]
  },
  {
   "cell_type": "code",
   "execution_count": 2,
   "metadata": {
    "collapsed": false
   },
   "outputs": [
    {
     "data": {
      "text/html": [
       "\n",
       "<!DOCTYPE html>\n",
       "<html lang=\"en\">\n",
       "    <head>\n",
       "        <meta charset=\"utf-8\">\n",
       "        <title>Bokeh Plot</title>\n",
       "        \n",
       "<link rel=\"stylesheet\" href=\"https://cdn.pydata.org/bokeh/release/bokeh-0.12.4.min.css\" type=\"text/css\" />\n",
       "        \n",
       "<script type=\"text/javascript\" src=\"https://cdn.pydata.org/bokeh/release/bokeh-0.12.4.min.js\"></script>\n",
       "<script type=\"text/javascript\">\n",
       "    Bokeh.set_log_level(\"info\");\n",
       "</script>\n",
       "        <style>\n",
       "          html {\n",
       "            width: 100%;\n",
       "            height: 100%;\n",
       "          }\n",
       "          body {\n",
       "            width: 90%;\n",
       "            height: 100%;\n",
       "            margin: auto;\n",
       "          }\n",
       "        </style>\n",
       "    </head>\n",
       "    <body>\n",
       "        \n",
       "        <div class=\"bk-root\">\n",
       "            <div class=\"bk-plotdiv\" id=\"f82280a0-f225-446f-a28d-7d7b90b74d88\"></div>\n",
       "        </div>\n",
       "        \n",
       "        <script type=\"text/javascript\">\n",
       "            (function() {\n",
       "          var fn = function() {\n",
       "            Bokeh.safely(function() {\n",
       "              var docs_json = {\"f330915b-e164-4937-97c5-a8bd6c4a38f9\":{\"roots\":{\"references\":[{\"attributes\":{\"plot\":{\"id\":\"93ca157d-03fd-4637-a62d-4348c1878e7c\",\"subtype\":\"Figure\",\"type\":\"Plot\"},\"ticker\":{\"id\":\"714fe4f9-b91b-4936-8f8e-b494336298de\",\"type\":\"BasicTicker\"}},\"id\":\"3a6c4126-d466-45f7-a94c-c80c383f034d\",\"type\":\"Grid\"},{\"attributes\":{\"axis_label\":\"Age\",\"formatter\":{\"id\":\"875656bb-6f9b-4cfe-9294-a65dbcab2c9a\",\"type\":\"BasicTickFormatter\"},\"plot\":{\"id\":\"4f76c4c2-2656-4520-8daa-50c70b937474\",\"subtype\":\"Figure\",\"type\":\"Plot\"},\"ticker\":{\"id\":\"b253decb-aa77-4301-900e-e684e10fc437\",\"type\":\"BasicTicker\"}},\"id\":\"70da41c8-e60d-4929-8a3c-f823c9e8e11d\",\"type\":\"LinearAxis\"},{\"attributes\":{},\"id\":\"51758e07-12ce-48f8-b6f5-8181c5c26e84\",\"type\":\"BasicTickFormatter\"},{\"attributes\":{\"callback\":null,\"column_names\":[\"count\",\"age\"],\"data\":{\"age\":[31,30,29,28,33,32,27,26,34,25,35,36,24,37,38,40,44,39,45,43,41,42,46,47,50,51,48,49,23,52,54,53,55,56,58,57,22,59,61,60,21,63,62,20,19,64,66,65,67,68,18,17,69,70,72,73,71,16,74,114,76,75,79,78,113,80,77,81,115,92,104,93,97,82,107,84,88,87,94,89,101,83],\"count\":[237149,232805,223143,213261,211192,209173,200734,195522,192050,183250,181779,174533,164717,159429,154804,148038,145570,144389,137512,131754,130284,128163,118623,115643,108989,106083,103289,98536,91148,90661,83669,76140,70211,65196,54662,53980,50128,46938,45069,45028,43459,30450,29976,28411,23489,20642,18403,17483,13167,9955,9602,8980,7286,7072,6821,5426,3466,3282,3156,2024,1651,1054,703,659,617,569,391,349,323,158,136,116,89,64,58,33,21,17,8,6,4,2]}},\"id\":\"24dccb68-d97c-41ec-a916-1990460a7c26\",\"type\":\"ColumnDataSource\"},{\"attributes\":{},\"id\":\"f406fd0b-4837-46c5-9158-b2a5489ab666\",\"type\":\"BasicTicker\"},{\"attributes\":{\"overlay\":{\"id\":\"5e091b0b-adf6-4253-b23d-bd1445dfb3e9\",\"type\":\"BoxAnnotation\"},\"plot\":{\"id\":\"93ca157d-03fd-4637-a62d-4348c1878e7c\",\"subtype\":\"Figure\",\"type\":\"Plot\"}},\"id\":\"ba8c497a-2d65-493a-9870-14611b916a0d\",\"type\":\"BoxZoomTool\"},{\"attributes\":{\"children\":[{\"id\":\"c92172c1-83a4-44f0-b64e-490d58971339\",\"type\":\"ToolbarBox\"},{\"id\":\"bcabc591-851a-4a9b-9f32-ffe734ce4892\",\"type\":\"Column\"}]},\"id\":\"04bf30a6-4b32-4cb0-ba44-2464c1226bc8\",\"type\":\"Column\"},{\"attributes\":{\"callback\":null},\"id\":\"9f99ff4c-58c8-4062-95d5-0d1499d75fb4\",\"type\":\"DataRange1d\"},{\"attributes\":{\"plot\":{\"id\":\"4f76c4c2-2656-4520-8daa-50c70b937474\",\"subtype\":\"Figure\",\"type\":\"Plot\"}},\"id\":\"83d26a30-da7e-43c7-abd0-3cd2d2591db1\",\"type\":\"PanTool\"},{\"attributes\":{},\"id\":\"db005acc-59cd-47bc-bf1c-fa7293a4b31d\",\"type\":\"ToolEvents\"},{\"attributes\":{\"below\":[{\"id\":\"82ffc7b9-0741-488c-b4f6-4340e3f34aa9\",\"type\":\"LinearAxis\"}],\"left\":[{\"id\":\"c2ae6035-eca5-4bd8-9f53-a0efd3c0da46\",\"type\":\"LinearAxis\"}],\"plot_height\":300,\"plot_width\":350,\"renderers\":[{\"id\":\"82ffc7b9-0741-488c-b4f6-4340e3f34aa9\",\"type\":\"LinearAxis\"},{\"id\":\"3a6c4126-d466-45f7-a94c-c80c383f034d\",\"type\":\"Grid\"},{\"id\":\"c2ae6035-eca5-4bd8-9f53-a0efd3c0da46\",\"type\":\"LinearAxis\"},{\"id\":\"2e613b6b-239b-4b19-bc9c-1a62ee1da0fb\",\"type\":\"Grid\"},{\"id\":\"5e091b0b-adf6-4253-b23d-bd1445dfb3e9\",\"type\":\"BoxAnnotation\"},{\"id\":\"bab8219a-5e51-4dc3-ba5f-961c4ee4d3c2\",\"type\":\"GlyphRenderer\"}],\"title\":{\"id\":\"63e3a5c7-b054-4570-82a0-11633099fa41\",\"type\":\"Title\"},\"tool_events\":{\"id\":\"db005acc-59cd-47bc-bf1c-fa7293a4b31d\",\"type\":\"ToolEvents\"},\"toolbar\":{\"id\":\"1c05331a-2d23-42e9-a8c2-cc59e4eb2d6f\",\"type\":\"Toolbar\"},\"toolbar_location\":null,\"x_range\":{\"id\":\"09c57d52-0feb-4f74-a032-77bd566fba7b\",\"type\":\"DataRange1d\"},\"y_range\":{\"id\":\"889e0e6c-6c4f-4db6-a888-64980bd5cf79\",\"type\":\"DataRange1d\"}},\"id\":\"93ca157d-03fd-4637-a62d-4348c1878e7c\",\"subtype\":\"Figure\",\"type\":\"Plot\"},{\"attributes\":{},\"id\":\"a8394735-153e-4c9e-b425-78253cdbded0\",\"type\":\"ToolEvents\"},{\"attributes\":{\"plot\":{\"id\":\"4f76c4c2-2656-4520-8daa-50c70b937474\",\"subtype\":\"Figure\",\"type\":\"Plot\"}},\"id\":\"e1787239-496d-4941-8c08-8b05b6ff9c81\",\"type\":\"SaveTool\"},{\"attributes\":{\"callback\":null},\"id\":\"09c57d52-0feb-4f74-a032-77bd566fba7b\",\"type\":\"DataRange1d\"},{\"attributes\":{\"axis_label\":\"Total trips\",\"formatter\":{\"id\":\"db1db152-00f3-4646-a5d7-feb992df09dd\",\"type\":\"BasicTickFormatter\"},\"plot\":{\"id\":\"4f76c4c2-2656-4520-8daa-50c70b937474\",\"subtype\":\"Figure\",\"type\":\"Plot\"},\"ticker\":{\"id\":\"f406fd0b-4837-46c5-9158-b2a5489ab666\",\"type\":\"BasicTicker\"}},\"id\":\"de83dac1-aca2-498d-b532-627b2b5f6382\",\"type\":\"LinearAxis\"},{\"attributes\":{},\"id\":\"db1db152-00f3-4646-a5d7-feb992df09dd\",\"type\":\"BasicTickFormatter\"},{\"attributes\":{\"active_drag\":\"auto\",\"active_scroll\":\"auto\",\"active_tap\":\"auto\",\"tools\":[{\"id\":\"d3a0a082-8681-433f-937d-0aa0f3d9c003\",\"type\":\"PanTool\"},{\"id\":\"ba8c497a-2d65-493a-9870-14611b916a0d\",\"type\":\"BoxZoomTool\"},{\"id\":\"cec3b7b3-1f6c-4c85-a2a4-6ddc170c63cb\",\"type\":\"ResetTool\"},{\"id\":\"af7b23a1-fb33-450a-8aae-e8f474710273\",\"type\":\"ResizeTool\"},{\"id\":\"fe055a53-d71a-4522-a197-7ea9404f993a\",\"type\":\"SaveTool\"}]},\"id\":\"1c05331a-2d23-42e9-a8c2-cc59e4eb2d6f\",\"type\":\"Toolbar\"},{\"attributes\":{\"bottom_units\":\"screen\",\"fill_alpha\":{\"value\":0.5},\"fill_color\":{\"value\":\"lightgrey\"},\"left_units\":\"screen\",\"level\":\"overlay\",\"line_alpha\":{\"value\":1.0},\"line_color\":{\"value\":\"black\"},\"line_dash\":[4,4],\"line_width\":{\"value\":2},\"plot\":null,\"render_mode\":\"css\",\"right_units\":\"screen\",\"top_units\":\"screen\"},\"id\":\"5e091b0b-adf6-4253-b23d-bd1445dfb3e9\",\"type\":\"BoxAnnotation\"},{\"attributes\":{\"children\":[{\"id\":\"4f76c4c2-2656-4520-8daa-50c70b937474\",\"subtype\":\"Figure\",\"type\":\"Plot\"},{\"id\":\"93ca157d-03fd-4637-a62d-4348c1878e7c\",\"subtype\":\"Figure\",\"type\":\"Plot\"}]},\"id\":\"2e9718f9-08ab-4209-9667-e238018ccd44\",\"type\":\"Row\"},{\"attributes\":{\"axis_label\":\"Age\",\"formatter\":{\"id\":\"51758e07-12ce-48f8-b6f5-8181c5c26e84\",\"type\":\"BasicTickFormatter\"},\"plot\":{\"id\":\"93ca157d-03fd-4637-a62d-4348c1878e7c\",\"subtype\":\"Figure\",\"type\":\"Plot\"},\"ticker\":{\"id\":\"714fe4f9-b91b-4936-8f8e-b494336298de\",\"type\":\"BasicTicker\"}},\"id\":\"82ffc7b9-0741-488c-b4f6-4340e3f34aa9\",\"type\":\"LinearAxis\"},{\"attributes\":{\"bottom_units\":\"screen\",\"fill_alpha\":{\"value\":0.5},\"fill_color\":{\"value\":\"lightgrey\"},\"left_units\":\"screen\",\"level\":\"overlay\",\"line_alpha\":{\"value\":1.0},\"line_color\":{\"value\":\"black\"},\"line_dash\":[4,4],\"line_width\":{\"value\":2},\"plot\":null,\"render_mode\":\"css\",\"right_units\":\"screen\",\"top_units\":\"screen\"},\"id\":\"0333dab1-0e7e-483c-8ecd-700d21601cf4\",\"type\":\"BoxAnnotation\"},{\"attributes\":{\"callback\":null},\"id\":\"2b73177d-15e9-46a2-b1b2-4698be8364a7\",\"type\":\"DataRange1d\"},{\"attributes\":{\"plot\":{\"id\":\"4f76c4c2-2656-4520-8daa-50c70b937474\",\"subtype\":\"Figure\",\"type\":\"Plot\"}},\"id\":\"6ea3b7bb-7773-4df6-851e-867ceba3ec35\",\"type\":\"ResizeTool\"},{\"attributes\":{\"plot\":{\"id\":\"93ca157d-03fd-4637-a62d-4348c1878e7c\",\"subtype\":\"Figure\",\"type\":\"Plot\"}},\"id\":\"d3a0a082-8681-433f-937d-0aa0f3d9c003\",\"type\":\"PanTool\"},{\"attributes\":{\"fill_alpha\":{\"value\":0.1},\"fill_color\":{\"value\":\"#1f77b4\"},\"line_alpha\":{\"value\":0.1},\"line_color\":{\"value\":\"#1f77b4\"},\"top\":{\"field\":\"count\"},\"width\":{\"value\":0.9},\"x\":{\"field\":\"age\"}},\"id\":\"d4bd8281-0e24-44cc-a415-9d806c4fe81e\",\"type\":\"VBar\"},{\"attributes\":{\"dimension\":1,\"plot\":{\"id\":\"93ca157d-03fd-4637-a62d-4348c1878e7c\",\"subtype\":\"Figure\",\"type\":\"Plot\"},\"ticker\":{\"id\":\"51502510-f9a2-45a6-8119-d4b76e55898c\",\"type\":\"BasicTicker\"}},\"id\":\"2e613b6b-239b-4b19-bc9c-1a62ee1da0fb\",\"type\":\"Grid\"},{\"attributes\":{\"data_source\":{\"id\":\"5fb3211d-e118-4786-9f2d-8cfb3d787851\",\"type\":\"ColumnDataSource\"},\"glyph\":{\"id\":\"55026167-40a0-4c73-89b0-9440bab3e446\",\"type\":\"VBar\"},\"hover_glyph\":null,\"nonselection_glyph\":{\"id\":\"d4bd8281-0e24-44cc-a415-9d806c4fe81e\",\"type\":\"VBar\"},\"selection_glyph\":null},\"id\":\"bab8219a-5e51-4dc3-ba5f-961c4ee4d3c2\",\"type\":\"GlyphRenderer\"},{\"attributes\":{},\"id\":\"875656bb-6f9b-4cfe-9294-a65dbcab2c9a\",\"type\":\"BasicTickFormatter\"},{\"attributes\":{\"axis_label\":\"Total trips\",\"formatter\":{\"id\":\"7f804945-fca9-4d69-ab17-e3bdc677f3f4\",\"type\":\"BasicTickFormatter\"},\"plot\":{\"id\":\"93ca157d-03fd-4637-a62d-4348c1878e7c\",\"subtype\":\"Figure\",\"type\":\"Plot\"},\"ticker\":{\"id\":\"51502510-f9a2-45a6-8119-d4b76e55898c\",\"type\":\"BasicTicker\"}},\"id\":\"c2ae6035-eca5-4bd8-9f53-a0efd3c0da46\",\"type\":\"LinearAxis\"},{\"attributes\":{},\"id\":\"51502510-f9a2-45a6-8119-d4b76e55898c\",\"type\":\"BasicTicker\"},{\"attributes\":{\"dimension\":1,\"plot\":{\"id\":\"4f76c4c2-2656-4520-8daa-50c70b937474\",\"subtype\":\"Figure\",\"type\":\"Plot\"},\"ticker\":{\"id\":\"f406fd0b-4837-46c5-9158-b2a5489ab666\",\"type\":\"BasicTicker\"}},\"id\":\"b76628cd-3cbe-41c4-9ac1-d337c6492607\",\"type\":\"Grid\"},{\"attributes\":{\"plot\":null,\"text\":\"Female\"},\"id\":\"63e3a5c7-b054-4570-82a0-11633099fa41\",\"type\":\"Title\"},{\"attributes\":{},\"id\":\"7f804945-fca9-4d69-ab17-e3bdc677f3f4\",\"type\":\"BasicTickFormatter\"},{\"attributes\":{\"sizing_mode\":\"scale_width\",\"toolbar_location\":\"above\",\"tools\":[{\"id\":\"83d26a30-da7e-43c7-abd0-3cd2d2591db1\",\"type\":\"PanTool\"},{\"id\":\"0521bf9b-74dd-4b5c-b7c6-572b3236043c\",\"type\":\"BoxZoomTool\"},{\"id\":\"78482f06-bca4-4d39-b3c3-a30f907986a0\",\"type\":\"ResetTool\"},{\"id\":\"6ea3b7bb-7773-4df6-851e-867ceba3ec35\",\"type\":\"ResizeTool\"},{\"id\":\"e1787239-496d-4941-8c08-8b05b6ff9c81\",\"type\":\"SaveTool\"},{\"id\":\"d3a0a082-8681-433f-937d-0aa0f3d9c003\",\"type\":\"PanTool\"},{\"id\":\"ba8c497a-2d65-493a-9870-14611b916a0d\",\"type\":\"BoxZoomTool\"},{\"id\":\"cec3b7b3-1f6c-4c85-a2a4-6ddc170c63cb\",\"type\":\"ResetTool\"},{\"id\":\"af7b23a1-fb33-450a-8aae-e8f474710273\",\"type\":\"ResizeTool\"},{\"id\":\"fe055a53-d71a-4522-a197-7ea9404f993a\",\"type\":\"SaveTool\"}]},\"id\":\"c92172c1-83a4-44f0-b64e-490d58971339\",\"type\":\"ToolbarBox\"},{\"attributes\":{\"fill_alpha\":{\"value\":0.7},\"fill_color\":{\"value\":\"red\"},\"line_alpha\":{\"value\":0.0},\"line_color\":{\"value\":\"red\"},\"top\":{\"field\":\"count\"},\"width\":{\"value\":0.9},\"x\":{\"field\":\"age\"}},\"id\":\"55026167-40a0-4c73-89b0-9440bab3e446\",\"type\":\"VBar\"},{\"attributes\":{\"callback\":null},\"id\":\"889e0e6c-6c4f-4db6-a888-64980bd5cf79\",\"type\":\"DataRange1d\"},{\"attributes\":{\"children\":[{\"id\":\"2e9718f9-08ab-4209-9667-e238018ccd44\",\"type\":\"Row\"}]},\"id\":\"bcabc591-851a-4a9b-9f32-ffe734ce4892\",\"type\":\"Column\"},{\"attributes\":{},\"id\":\"714fe4f9-b91b-4936-8f8e-b494336298de\",\"type\":\"BasicTicker\"},{\"attributes\":{},\"id\":\"b253decb-aa77-4301-900e-e684e10fc437\",\"type\":\"BasicTicker\"},{\"attributes\":{\"plot\":null,\"text\":\"Male\"},\"id\":\"0f534103-7218-4149-aa8c-dcc37f8b5cf2\",\"type\":\"Title\"},{\"attributes\":{\"fill_alpha\":{\"value\":0.1},\"fill_color\":{\"value\":\"#1f77b4\"},\"line_alpha\":{\"value\":0.1},\"line_color\":{\"value\":\"#1f77b4\"},\"top\":{\"field\":\"count\"},\"width\":{\"value\":0.9},\"x\":{\"field\":\"age\"}},\"id\":\"e14cfc12-263e-42e3-b446-969583d02488\",\"type\":\"VBar\"},{\"attributes\":{\"plot\":{\"id\":\"4f76c4c2-2656-4520-8daa-50c70b937474\",\"subtype\":\"Figure\",\"type\":\"Plot\"},\"ticker\":{\"id\":\"b253decb-aa77-4301-900e-e684e10fc437\",\"type\":\"BasicTicker\"}},\"id\":\"3e1ccdd7-aec8-48f9-b444-660b59a909cc\",\"type\":\"Grid\"},{\"attributes\":{\"fill_alpha\":{\"value\":0.7},\"fill_color\":{\"value\":\"navy\"},\"line_alpha\":{\"value\":0.0},\"line_color\":{\"value\":\"navy\"},\"top\":{\"field\":\"count\"},\"width\":{\"value\":0.9},\"x\":{\"field\":\"age\"}},\"id\":\"93190950-3cb8-488b-9144-3455a98c71c9\",\"type\":\"VBar\"},{\"attributes\":{\"data_source\":{\"id\":\"24dccb68-d97c-41ec-a916-1990460a7c26\",\"type\":\"ColumnDataSource\"},\"glyph\":{\"id\":\"93190950-3cb8-488b-9144-3455a98c71c9\",\"type\":\"VBar\"},\"hover_glyph\":null,\"nonselection_glyph\":{\"id\":\"e14cfc12-263e-42e3-b446-969583d02488\",\"type\":\"VBar\"},\"selection_glyph\":null},\"id\":\"3e10b8e2-f6be-42dc-993a-fb31c73885d0\",\"type\":\"GlyphRenderer\"},{\"attributes\":{\"overlay\":{\"id\":\"0333dab1-0e7e-483c-8ecd-700d21601cf4\",\"type\":\"BoxAnnotation\"},\"plot\":{\"id\":\"4f76c4c2-2656-4520-8daa-50c70b937474\",\"subtype\":\"Figure\",\"type\":\"Plot\"}},\"id\":\"0521bf9b-74dd-4b5c-b7c6-572b3236043c\",\"type\":\"BoxZoomTool\"},{\"attributes\":{\"below\":[{\"id\":\"70da41c8-e60d-4929-8a3c-f823c9e8e11d\",\"type\":\"LinearAxis\"}],\"left\":[{\"id\":\"de83dac1-aca2-498d-b532-627b2b5f6382\",\"type\":\"LinearAxis\"}],\"plot_height\":300,\"plot_width\":350,\"renderers\":[{\"id\":\"70da41c8-e60d-4929-8a3c-f823c9e8e11d\",\"type\":\"LinearAxis\"},{\"id\":\"3e1ccdd7-aec8-48f9-b444-660b59a909cc\",\"type\":\"Grid\"},{\"id\":\"de83dac1-aca2-498d-b532-627b2b5f6382\",\"type\":\"LinearAxis\"},{\"id\":\"b76628cd-3cbe-41c4-9ac1-d337c6492607\",\"type\":\"Grid\"},{\"id\":\"0333dab1-0e7e-483c-8ecd-700d21601cf4\",\"type\":\"BoxAnnotation\"},{\"id\":\"3e10b8e2-f6be-42dc-993a-fb31c73885d0\",\"type\":\"GlyphRenderer\"}],\"title\":{\"id\":\"0f534103-7218-4149-aa8c-dcc37f8b5cf2\",\"type\":\"Title\"},\"tool_events\":{\"id\":\"a8394735-153e-4c9e-b425-78253cdbded0\",\"type\":\"ToolEvents\"},\"toolbar\":{\"id\":\"fda3aa76-89f8-4541-a04a-d5033470b81d\",\"type\":\"Toolbar\"},\"toolbar_location\":null,\"x_range\":{\"id\":\"9f99ff4c-58c8-4062-95d5-0d1499d75fb4\",\"type\":\"DataRange1d\"},\"y_range\":{\"id\":\"2b73177d-15e9-46a2-b1b2-4698be8364a7\",\"type\":\"DataRange1d\"}},\"id\":\"4f76c4c2-2656-4520-8daa-50c70b937474\",\"subtype\":\"Figure\",\"type\":\"Plot\"},{\"attributes\":{\"plot\":{\"id\":\"93ca157d-03fd-4637-a62d-4348c1878e7c\",\"subtype\":\"Figure\",\"type\":\"Plot\"}},\"id\":\"cec3b7b3-1f6c-4c85-a2a4-6ddc170c63cb\",\"type\":\"ResetTool\"},{\"attributes\":{\"plot\":{\"id\":\"4f76c4c2-2656-4520-8daa-50c70b937474\",\"subtype\":\"Figure\",\"type\":\"Plot\"}},\"id\":\"78482f06-bca4-4d39-b3c3-a30f907986a0\",\"type\":\"ResetTool\"},{\"attributes\":{\"plot\":{\"id\":\"93ca157d-03fd-4637-a62d-4348c1878e7c\",\"subtype\":\"Figure\",\"type\":\"Plot\"}},\"id\":\"fe055a53-d71a-4522-a197-7ea9404f993a\",\"type\":\"SaveTool\"},{\"attributes\":{\"active_drag\":\"auto\",\"active_scroll\":\"auto\",\"active_tap\":\"auto\",\"tools\":[{\"id\":\"83d26a30-da7e-43c7-abd0-3cd2d2591db1\",\"type\":\"PanTool\"},{\"id\":\"0521bf9b-74dd-4b5c-b7c6-572b3236043c\",\"type\":\"BoxZoomTool\"},{\"id\":\"78482f06-bca4-4d39-b3c3-a30f907986a0\",\"type\":\"ResetTool\"},{\"id\":\"6ea3b7bb-7773-4df6-851e-867ceba3ec35\",\"type\":\"ResizeTool\"},{\"id\":\"e1787239-496d-4941-8c08-8b05b6ff9c81\",\"type\":\"SaveTool\"}]},\"id\":\"fda3aa76-89f8-4541-a04a-d5033470b81d\",\"type\":\"Toolbar\"},{\"attributes\":{\"callback\":null,\"column_names\":[\"count\",\"age\"],\"data\":{\"age\":[29,28,30,31,27,32,26,25,33,34,24,35,36,37,44,38,23,42,40,41,45,43,39,49,52,47,48,51,46,54,22,50,56,53,55,57,21,58,60,59,20,61,63,62,64,19,18,66,65,67,17,69,68,71,70,73,16,72,76,82,88,74,79,75,78,90,114,115,83,77,85],\"count\":[84711,82130,76567,74847,72546,68931,68750,63832,63135,59607,53563,51308,49944,45586,37717,37040,35827,34212,33835,32077,31286,30597,30235,28927,27641,26358,25543,25489,25293,24760,21849,21262,20756,20530,20262,19729,15362,14356,14319,11158,9804,8233,6333,5777,5213,4935,4094,3373,3304,2614,2055,1530,1059,968,832,781,688,629,235,199,187,115,78,76,74,46,42,28,22,13,5]}},\"id\":\"5fb3211d-e118-4786-9f2d-8cfb3d787851\",\"type\":\"ColumnDataSource\"},{\"attributes\":{\"plot\":{\"id\":\"93ca157d-03fd-4637-a62d-4348c1878e7c\",\"subtype\":\"Figure\",\"type\":\"Plot\"}},\"id\":\"af7b23a1-fb33-450a-8aae-e8f474710273\",\"type\":\"ResizeTool\"}],\"root_ids\":[\"04bf30a6-4b32-4cb0-ba44-2464c1226bc8\"]},\"title\":\"Bokeh Application\",\"version\":\"0.12.4\"}};\n",
       "              var render_items = [{\"docid\":\"f330915b-e164-4937-97c5-a8bd6c4a38f9\",\"elementid\":\"f82280a0-f225-446f-a28d-7d7b90b74d88\",\"modelid\":\"04bf30a6-4b32-4cb0-ba44-2464c1226bc8\"}];\n",
       "              \n",
       "              Bokeh.embed.embed_items(docs_json, render_items);\n",
       "            });\n",
       "          };\n",
       "          if (document.readyState != \"loading\") fn();\n",
       "          else document.addEventListener(\"DOMContentLoaded\", fn);\n",
       "        })();\n",
       "        \n",
       "        </script>\n",
       "    </body>\n",
       "</html>"
      ],
      "text/plain": [
       "<IPython.core.display.HTML object>"
      ]
     },
     "metadata": {},
     "output_type": "display_data"
    }
   ],
   "source": [
    "import bokeh\n",
    "from IPython.core.display import display, HTML\n",
    "display(HTML('age_distribution_2014.html'))"
   ]
  },
  {
   "cell_type": "markdown",
   "metadata": {},
   "source": [
    "<a name='action_item'></a>\n",
    "### ACTION ITEM: What's the goal of this exploration? Possible answers: \n",
    "* Build a model to predict bike use for next hour/day\n",
    "* Build a bike-transfer protocol, if the current one is not optimized"
   ]
  },
  {
   "cell_type": "code",
   "execution_count": null,
   "metadata": {
    "collapsed": true
   },
   "outputs": [],
   "source": []
  }
 ],
 "metadata": {
  "anaconda-cloud": {},
  "kernelspec": {
   "display_name": "Python [default]",
   "language": "python",
   "name": "python3"
  },
  "language_info": {
   "codemirror_mode": {
    "name": "ipython",
    "version": 3
   },
   "file_extension": ".py",
   "mimetype": "text/x-python",
   "name": "python",
   "nbconvert_exporter": "python",
   "pygments_lexer": "ipython3",
   "version": "3.5.2"
  }
 },
 "nbformat": 4,
 "nbformat_minor": 1
}
